{
 "cells": [
  {
   "cell_type": "code",
   "execution_count": 1,
   "metadata": {},
   "outputs": [],
   "source": [
    "import pandas as pd\n",
    "import numpy as np\n",
    "import warnings\n",
    "import pattern_detection_bg_func as bg\n",
    "warnings.filterwarnings(\"ignore\")\n",
    "\n",
    "### driver function for cluster_matching\n",
    "def dtw_clustering(self):\n",
    "    tmp_list = bg.cluster_matching(ref_seq[int(self[0])], ref_seq[int(self[1])], int(self[0]), int(self[1]), accept_range, accept_ratio)\n",
    "    return tmp_list\n",
    "\n",
    "### driver function for parallel computing of suspicious_clustering\n",
    "def dtw_suspicious_clustering(self):\n",
    "    tmp_list = bg.scan_suspicious_clusters(result_mapping, int(self[0]),ref_seq, accept_fuzzy_range, accept_fuzzy_ratio)\n",
    "    return tmp_list"
   ]
  },
  {
   "cell_type": "code",
   "execution_count": 51,
   "metadata": {},
   "outputs": [],
   "source": [
    "ts_data = pd.read_csv('data/som_clustering_dataset1.csv', sep = ',')\n",
    "len_of_ref_seq = len(ts_data)\n",
    "accept_range = 3\n",
    "accept_ratio = 0.6"
   ]
  },
  {
   "cell_type": "code",
   "execution_count": 52,
   "metadata": {
    "scrolled": true
   },
   "outputs": [],
   "source": [
    "### step 1, normalize a numerical series to a given range\n",
    "def norm_numerical_ts(data):\n",
    "    min_max_scaler = bg.preprocessing.MinMaxScaler(feature_range=(0.01, 0.99))\n",
    "\n",
    "    for i in data.columns[0:-1]:\n",
    "        x = data[i].values.reshape(-1, 1) \n",
    "        x_scaled = min_max_scaler.fit_transform(x)\n",
    "        data[i] = x_scaled\n",
    "    return data"
   ]
  },
  {
   "cell_type": "code",
   "execution_count": 53,
   "metadata": {},
   "outputs": [],
   "source": [
    "# step 2, transform the scaled numerical series to an alphabetical sequence\n",
    "def alphabetical_seq(data):     \n",
    "    seq_dict = {0:'a',1:'b',2:'c',3:'d',4:'e',5:'f',6:'g',7:'h',8:'i',9:'j',10:'k',11:'l',\n",
    "                12:'m',13:'n',14:'o',15:'p',16:'q',17:'r',18:'s',19:'t',20:'u',21:'v',22:'w',23:'x',24:'y',25:'z'}\n",
    "    ref_seq = [] ### for reference sequence\n",
    "    arr = '' \n",
    "    slot_num = 26\n",
    "    # Put array elements in different alphabet \n",
    "    for row in range(len(data)):\n",
    "        for col in range(len(data.columns[0:-1])):\n",
    "            arr = arr + seq_dict[int(slot_num*data.iloc[row,col])]\n",
    "        ref_seq.append(arr)   \n",
    "        arr = ''\n",
    "    return ref_seq\n",
    "norm_ts_data = norm_numerical_ts(ts_data)\n",
    "ref_seq = alphabetical_seq(norm_ts_data)"
   ]
  },
  {
   "cell_type": "code",
   "execution_count": 54,
   "metadata": {
    "scrolled": true
   },
   "outputs": [
    {
     "name": "stderr",
     "output_type": "stream",
     "text": [
      "54615it [00:27, 2019.71it/s]         \n"
     ]
    }
   ],
   "source": [
    "# step 3, match the alphabetical sequence to the reference alphabetical sequence\n",
    "### parallel_ck 負責控制共有哪些tasks需讓multiprocessing完成，例如共需45次兩兩波形計算\n",
    "parallel_ck = bg.build_triangular_mx(len_of_ref_seq) \n",
    "dist_list = bg.imap_unordered_bar(dtw_clustering, parallel_ck, 3)\n",
    "result_mapping = bg.comparison_list(len_of_ref_seq) ### save results to a nested list\n",
    "for i in dist_list:\n",
    "    if(len(i) > 0):  ### to skip null list: []\n",
    "        result_mapping[int(i[0][0])].append([i[0][1],i[0][2]])\n",
    "        result_mapping[int(i[1][0])].append([i[1][1],i[1][2]])\n",
    "        "
   ]
  },
  {
   "cell_type": "code",
   "execution_count": 55,
   "metadata": {
    "scrolled": true
   },
   "outputs": [
    {
     "name": "stderr",
     "output_type": "stream",
     "text": [
      "331it [00:36,  7.89it/s]                     \n"
     ]
    }
   ],
   "source": [
    "# step 4, get target_ts's similar ts pattern cluster\n",
    "accept_fuzzy_range = 3\n",
    "accept_fuzzy_ratio = 0.6\n",
    "parallel_ct = np.zeros((len_of_ref_seq,2))\n",
    "parallel_ct[:,0] = np.arange(len_of_ref_seq)\n",
    "\n",
    "suspicious_cluster = bg.imap_unordered_bar(dtw_suspicious_clustering, parallel_ct, 3)\n",
    "suspicious_cluster.sort(key=bg.takeFirst, reverse=False)"
   ]
  },
  {
   "cell_type": "code",
   "execution_count": 78,
   "metadata": {
    "scrolled": true
   },
   "outputs": [
    {
     "data": {
      "text/plain": [
       "[33,\n",
       " [[32, 0.7], [22, 0.66], [36, 0.63], [169, 0.63]],\n",
       " [3,\n",
       "  4,\n",
       "  5,\n",
       "  6,\n",
       "  8,\n",
       "  9,\n",
       "  12,\n",
       "  14,\n",
       "  15,\n",
       "  16,\n",
       "  17,\n",
       "  20,\n",
       "  22,\n",
       "  24,\n",
       "  36,\n",
       "  51,\n",
       "  59,\n",
       "  169,\n",
       "  186,\n",
       "  191,\n",
       "  286,\n",
       "  292]]"
      ]
     },
     "execution_count": 78,
     "metadata": {},
     "output_type": "execute_result"
    }
   ],
   "source": [
    "suspicious_cluster[33]"
   ]
  },
  {
   "cell_type": "code",
   "execution_count": 79,
   "metadata": {
    "scrolled": true
   },
   "outputs": [
    {
     "data": {
      "text/plain": [
       "[33,\n",
       " [[32, 0.7], [22, 0.66], [36, 0.63], [169, 0.63]],\n",
       " [3,\n",
       "  4,\n",
       "  5,\n",
       "  6,\n",
       "  8,\n",
       "  9,\n",
       "  12,\n",
       "  14,\n",
       "  15,\n",
       "  16,\n",
       "  17,\n",
       "  20,\n",
       "  22,\n",
       "  24,\n",
       "  36,\n",
       "  51,\n",
       "  59,\n",
       "  169,\n",
       "  186,\n",
       "  191,\n",
       "  286,\n",
       "  292]]"
      ]
     },
     "execution_count": 79,
     "metadata": {},
     "output_type": "execute_result"
    }
   ],
   "source": [
    "accept_fuzzy_range = 3\n",
    "accept_fuzzy_ratio = 0.6\n",
    "target_ts = 33\n",
    "bg.scan_suspicious_clusters(result_mapping, target_ts, ref_seq, accept_fuzzy_range, accept_fuzzy_ratio)"
   ]
  },
  {
   "cell_type": "markdown",
   "metadata": {},
   "source": [
    "################################################################################################################################"
   ]
  }
 ],
 "metadata": {
  "kernelspec": {
   "display_name": "Python 3",
   "language": "python",
   "name": "python3"
  },
  "language_info": {
   "codemirror_mode": {
    "name": "ipython",
    "version": 3
   },
   "file_extension": ".py",
   "mimetype": "text/x-python",
   "name": "python",
   "nbconvert_exporter": "python",
   "pygments_lexer": "ipython3",
   "version": "3.7.1"
  }
 },
 "nbformat": 4,
 "nbformat_minor": 2
}
